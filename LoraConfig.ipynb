{
  "nbformat": 4,
  "nbformat_minor": 0,
  "metadata": {
    "colab": {
      "provenance": [],
      "authorship_tag": "ABX9TyMuIcPAt+MrxzHUHR00Dbgf",
      "include_colab_link": true
    },
    "kernelspec": {
      "name": "python3",
      "display_name": "Python 3"
    },
    "language_info": {
      "name": "python"
    }
  },
  "cells": [
    {
      "cell_type": "markdown",
      "metadata": {
        "id": "view-in-github",
        "colab_type": "text"
      },
      "source": [
        "<a href=\"https://colab.research.google.com/github/mitran27/GenerativeNetworks/blob/main/LoraConfig.ipynb\" target=\"_parent\"><img src=\"https://colab.research.google.com/assets/colab-badge.svg\" alt=\"Open In Colab\"/></a>"
      ]
    },
    {
      "cell_type": "code",
      "execution_count": 4,
      "metadata": {
        "id": "5LVFhhQrWYPN"
      },
      "outputs": [],
      "source": [
        "from torch.nn import Module,Linear\n",
        "import torch"
      ]
    },
    {
      "cell_type": "code",
      "source": [
        "type(Linear)"
      ],
      "metadata": {
        "colab": {
          "base_uri": "https://localhost:8080/"
        },
        "id": "XMB2aA3XdQ0c",
        "outputId": "1064aaa4-7211-4400-dc40-9c4deb61b0fe"
      },
      "execution_count": 7,
      "outputs": [
        {
          "output_type": "execute_result",
          "data": {
            "text/plain": [
              "type"
            ]
          },
          "metadata": {},
          "execution_count": 7
        }
      ]
    },
    {
      "cell_type": "code",
      "source": [
        "class LoraLayer(Module): #adapter layer aaden to the required weight of the real Model\n",
        "  def __init__(self, in_dim, out_dim, rank, alpha):\n",
        "    super().__init__()\n",
        "    self.lora_A = Linear(in_dim, rank, bias=False)\n",
        "    self.lora_B =  Linear(in_dim, rank, bias=False)\n",
        "\n",
        "\n",
        "    #we initialized B with zeros beause at he initial iteration the training, before A and B are updated via backpropagation(not learnt learnt), the LoRALayer influence the output and loss in a noise way instabilizing the training so not to have impact the original weights because AB=0 if B=0.\n",
        "\n",
        "    # we want to learn but not contribute to the output\n",
        "    with torch.no_grad():\n",
        "      self.lora_B.weight.copy_(torch.zeros(rank, out_dim))\n",
        "\n",
        "    self.alpha = alpha # the scaling factor alpha More eight of lora to op real weights\n",
        "\n",
        "  def forward(self, X):\n",
        "\n",
        "    return ( X @ self.lora_A  @ self.lora_B ) * self.alpha\n",
        "\n",
        "class LinearWithLora(Module):\n",
        "  def __init__(self, linear:Linear, rank, alpha):\n",
        "    super().__init__()\n",
        "    self.base_layer = linear # any Layer\n",
        "    self.lora_layer = LoraLayer(linear.in_features, linear.out_features, rank, alpha)\n",
        "  def forward(self,X):\n",
        "    return self.base_layer(X) + self.lora_layer(X)\n",
        "\n"
      ],
      "metadata": {
        "id": "CUWwCm4pYKD7"
      },
      "execution_count": 43,
      "outputs": []
    },
    {
      "cell_type": "code",
      "source": [
        "from functools import partial\n",
        "\n",
        "class LoraConfig(Module):\n",
        "  def __init__(self, rank, alpha, target_modules):\n",
        "    super().__init__()\n",
        "    self.r =rank\n",
        "    self.alpha = alpha\n",
        "    self.target_modules = target_modules\n",
        "  def get_peft_model(self, model:Module):\n",
        "    # take one layer of the model and pass it to lorawithlinear along with lora config to add adpter to that layer in the model\n",
        "\n",
        "\n",
        "    assign_lora = partial(LinearWithLora, rank=self.r, alpha=self.alpha) # just to avoid writing LinearWithLora(linear,rank,alpha) eah time\n",
        "\n",
        "    for layer in model.distilbert.transformer.layer:\n",
        "\n",
        "      if(\"q_proj\" in self.target_modules):\n",
        "            layer.attention.q_lin = assign_lora(layer.attention.q_lin)\n",
        "      if(\"k_proj\" in self.target_modules):\n",
        "            layer.attention.k_lin = assign_lora(layer.attention.k_lin)\n",
        "      if(\"v_proj\" in self.target_modules):\n",
        "            layer.attention.v_lin = assign_lora(layer.attention.v_lin)\n",
        "      if(\"out_proj\" in self.target_modules):\n",
        "            layer.attention.out_lin = assign_lora(layer.attention.out_lin)\n",
        "\n",
        "    return model\n",
        "\n",
        "\n"
      ],
      "metadata": {
        "id": "HFtGV-DjXffW"
      },
      "execution_count": 44,
      "outputs": []
    },
    {
      "cell_type": "code",
      "source": [
        "from transformers import AutoModelForSequenceClassification\n",
        "\n",
        "\n",
        "model = AutoModelForSequenceClassification.from_pretrained(\n",
        "    \"distilbert-base-uncased\", num_labels=2)"
      ],
      "metadata": {
        "colab": {
          "base_uri": "https://localhost:8080/"
        },
        "id": "LGbDbXtTcK9z",
        "outputId": "2abb8d14-3766-47dd-85bf-514a576ca48b"
      },
      "execution_count": 45,
      "outputs": [
        {
          "output_type": "stream",
          "name": "stderr",
          "text": [
            "Some weights of DistilBertForSequenceClassification were not initialized from the model checkpoint at distilbert-base-uncased and are newly initialized: ['classifier.weight', 'pre_classifier.bias', 'pre_classifier.weight', 'classifier.bias']\n",
            "You should probably TRAIN this model on a down-stream task to be able to use it for predictions and inference.\n"
          ]
        }
      ]
    },
    {
      "cell_type": "code",
      "source": [
        "\n",
        "# Step 1 : freeze the Model\n",
        "for param in model.parameters():\n",
        "    param.requires_grad = False\n",
        "\n",
        "print(model)\n",
        "\n",
        "# step 2 Lora configs\n",
        "lora_configs = LoraConfig(rank=4,alpha=16,target_modules=[\"q_proj\",\"v_proj\"])\n",
        "peftmodel = lora_configs.get_peft_model(model)\n"
      ],
      "metadata": {
        "colab": {
          "base_uri": "https://localhost:8080/"
        },
        "id": "kUkQYmWwcjPq",
        "outputId": "00c02675-60d1-40e9-e737-f9e19e26ba35"
      },
      "execution_count": 46,
      "outputs": [
        {
          "output_type": "stream",
          "name": "stdout",
          "text": [
            "DistilBertForSequenceClassification(\n",
            "  (distilbert): DistilBertModel(\n",
            "    (embeddings): Embeddings(\n",
            "      (word_embeddings): Embedding(30522, 768, padding_idx=0)\n",
            "      (position_embeddings): Embedding(512, 768)\n",
            "      (LayerNorm): LayerNorm((768,), eps=1e-12, elementwise_affine=True)\n",
            "      (dropout): Dropout(p=0.1, inplace=False)\n",
            "    )\n",
            "    (transformer): Transformer(\n",
            "      (layer): ModuleList(\n",
            "        (0-5): 6 x TransformerBlock(\n",
            "          (attention): MultiHeadSelfAttention(\n",
            "            (dropout): Dropout(p=0.1, inplace=False)\n",
            "            (q_lin): Linear(in_features=768, out_features=768, bias=True)\n",
            "            (k_lin): Linear(in_features=768, out_features=768, bias=True)\n",
            "            (v_lin): Linear(in_features=768, out_features=768, bias=True)\n",
            "            (out_lin): Linear(in_features=768, out_features=768, bias=True)\n",
            "          )\n",
            "          (sa_layer_norm): LayerNorm((768,), eps=1e-12, elementwise_affine=True)\n",
            "          (ffn): FFN(\n",
            "            (dropout): Dropout(p=0.1, inplace=False)\n",
            "            (lin1): Linear(in_features=768, out_features=3072, bias=True)\n",
            "            (lin2): Linear(in_features=3072, out_features=768, bias=True)\n",
            "            (activation): GELUActivation()\n",
            "          )\n",
            "          (output_layer_norm): LayerNorm((768,), eps=1e-12, elementwise_affine=True)\n",
            "        )\n",
            "      )\n",
            "    )\n",
            "  )\n",
            "  (pre_classifier): Linear(in_features=768, out_features=768, bias=True)\n",
            "  (classifier): Linear(in_features=768, out_features=2, bias=True)\n",
            "  (dropout): Dropout(p=0.2, inplace=False)\n",
            ")\n"
          ]
        }
      ]
    },
    {
      "cell_type": "code",
      "source": [
        "print(peftmodel)"
      ],
      "metadata": {
        "colab": {
          "base_uri": "https://localhost:8080/"
        },
        "id": "Zx3-5C02eCGa",
        "outputId": "04b617a2-f03b-487c-d3d7-df39ac7ee25a"
      },
      "execution_count": 47,
      "outputs": [
        {
          "output_type": "stream",
          "name": "stdout",
          "text": [
            "DistilBertForSequenceClassification(\n",
            "  (distilbert): DistilBertModel(\n",
            "    (embeddings): Embeddings(\n",
            "      (word_embeddings): Embedding(30522, 768, padding_idx=0)\n",
            "      (position_embeddings): Embedding(512, 768)\n",
            "      (LayerNorm): LayerNorm((768,), eps=1e-12, elementwise_affine=True)\n",
            "      (dropout): Dropout(p=0.1, inplace=False)\n",
            "    )\n",
            "    (transformer): Transformer(\n",
            "      (layer): ModuleList(\n",
            "        (0-5): 6 x TransformerBlock(\n",
            "          (attention): MultiHeadSelfAttention(\n",
            "            (dropout): Dropout(p=0.1, inplace=False)\n",
            "            (q_lin): LinearWithLora(\n",
            "              (base_layer): Linear(in_features=768, out_features=768, bias=True)\n",
            "              (lora_layer): LoraLayer(\n",
            "                (lora_A): Linear(in_features=768, out_features=4, bias=False)\n",
            "                (lora_B): Linear(in_features=768, out_features=4, bias=False)\n",
            "              )\n",
            "            )\n",
            "            (k_lin): Linear(in_features=768, out_features=768, bias=True)\n",
            "            (v_lin): LinearWithLora(\n",
            "              (base_layer): Linear(in_features=768, out_features=768, bias=True)\n",
            "              (lora_layer): LoraLayer(\n",
            "                (lora_A): Linear(in_features=768, out_features=4, bias=False)\n",
            "                (lora_B): Linear(in_features=768, out_features=4, bias=False)\n",
            "              )\n",
            "            )\n",
            "            (out_lin): Linear(in_features=768, out_features=768, bias=True)\n",
            "          )\n",
            "          (sa_layer_norm): LayerNorm((768,), eps=1e-12, elementwise_affine=True)\n",
            "          (ffn): FFN(\n",
            "            (dropout): Dropout(p=0.1, inplace=False)\n",
            "            (lin1): Linear(in_features=768, out_features=3072, bias=True)\n",
            "            (lin2): Linear(in_features=3072, out_features=768, bias=True)\n",
            "            (activation): GELUActivation()\n",
            "          )\n",
            "          (output_layer_norm): LayerNorm((768,), eps=1e-12, elementwise_affine=True)\n",
            "        )\n",
            "      )\n",
            "    )\n",
            "  )\n",
            "  (pre_classifier): Linear(in_features=768, out_features=768, bias=True)\n",
            "  (classifier): Linear(in_features=768, out_features=2, bias=True)\n",
            "  (dropout): Dropout(p=0.2, inplace=False)\n",
            ")\n"
          ]
        }
      ]
    },
    {
      "cell_type": "code",
      "source": [],
      "metadata": {
        "id": "2UHGEw8LkgHF"
      },
      "execution_count": 42,
      "outputs": []
    }
  ]
}