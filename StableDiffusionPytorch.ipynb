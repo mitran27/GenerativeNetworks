{
  "nbformat": 4,
  "nbformat_minor": 0,
  "metadata": {
    "colab": {
      "provenance": [],
      "authorship_tag": "ABX9TyMJ7L+rWwAnhLdwFVT69ANj",
      "include_colab_link": true
    },
    "kernelspec": {
      "name": "python3",
      "display_name": "Python 3"
    },
    "language_info": {
      "name": "python"
    }
  },
  "cells": [
    {
      "cell_type": "markdown",
      "metadata": {
        "id": "view-in-github",
        "colab_type": "text"
      },
      "source": [
        "<a href=\"https://colab.research.google.com/github/mitran27/GenerativeNetworks/blob/main/StableDiffusionPytorch.ipynb\" target=\"_parent\"><img src=\"https://colab.research.google.com/assets/colab-badge.svg\" alt=\"Open In Colab\"/></a>"
      ]
    },
    {
      "cell_type": "markdown",
      "source": [
        "**Diffusion Models**\n",
        "* Generate high quality images\n",
        "\n",
        "1) Uncoditional : Generate randomly\n",
        "\n",
        "2) Conditional : (conditioned on) TEXT, IMAGE,CLASS\n",
        "\n",
        "\n",
        "\n",
        "\n",
        "***Latent diffusion Model***\n",
        "\n",
        "*  Instead of training the diffusion model in pixel space(2D) convert it to latent vector(1D) using VAE and do diffusion process after that convert bac to pixel space using Decoder"
      ],
      "metadata": {
        "id": "Z5OzQxtcwHF_"
      }
    },
    {
      "cell_type": "code",
      "execution_count": null,
      "metadata": {
        "id": "uwc9R_M_vBBy"
      },
      "outputs": [],
      "source": [
        "#test"
      ]
    }
  ]
}