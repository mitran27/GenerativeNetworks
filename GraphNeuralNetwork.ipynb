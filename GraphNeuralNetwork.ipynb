{
  "nbformat": 4,
  "nbformat_minor": 0,
  "metadata": {
    "colab": {
      "provenance": []
    },
    "kernelspec": {
      "name": "python3",
      "display_name": "Python 3"
    },
    "language_info": {
      "name": "python"
    }
  },
  "cells": [
    {
      "cell_type": "code",
      "source": [
        "!pip install networkx==2.4\n",
        "!pip install torch_geometric"
      ],
      "metadata": {
        "colab": {
          "base_uri": "https://localhost:8080/"
        },
        "id": "tceZkhBeGPUF",
        "outputId": "8daf3c2b-2786-4e8d-e92e-3f9fd4d4fe8b"
      },
      "execution_count": 16,
      "outputs": [
        {
          "output_type": "stream",
          "name": "stdout",
          "text": [
            "Looking in indexes: https://pypi.org/simple, https://us-python.pkg.dev/colab-wheels/public/simple/\n",
            "Requirement already satisfied: networkx==2.4 in /usr/local/lib/python3.10/dist-packages (2.4)\n",
            "Requirement already satisfied: decorator>=4.3.0 in /usr/local/lib/python3.10/dist-packages (from networkx==2.4) (4.4.2)\n",
            "Looking in indexes: https://pypi.org/simple, https://us-python.pkg.dev/colab-wheels/public/simple/\n",
            "Collecting torch_geometric\n",
            "  Downloading torch_geometric-2.3.1.tar.gz (661 kB)\n",
            "\u001b[2K     \u001b[90m━━━━━━━━━━━━━━━━━━━━━━━━━━━━━━━━━━━━━━\u001b[0m \u001b[32m661.6/661.6 kB\u001b[0m \u001b[31m14.6 MB/s\u001b[0m eta \u001b[36m0:00:00\u001b[0m\n",
            "\u001b[?25h  Installing build dependencies ... \u001b[?25l\u001b[?25hdone\n",
            "  Getting requirements to build wheel ... \u001b[?25l\u001b[?25hdone\n",
            "  Preparing metadata (pyproject.toml) ... \u001b[?25l\u001b[?25hdone\n",
            "Requirement already satisfied: pyparsing in /usr/local/lib/python3.10/dist-packages (from torch_geometric) (3.0.9)\n",
            "Requirement already satisfied: psutil>=5.8.0 in /usr/local/lib/python3.10/dist-packages (from torch_geometric) (5.9.5)\n",
            "Requirement already satisfied: tqdm in /usr/local/lib/python3.10/dist-packages (from torch_geometric) (4.65.0)\n",
            "Requirement already satisfied: scipy in /usr/local/lib/python3.10/dist-packages (from torch_geometric) (1.10.1)\n",
            "Requirement already satisfied: numpy in /usr/local/lib/python3.10/dist-packages (from torch_geometric) (1.22.4)\n",
            "Requirement already satisfied: scikit-learn in /usr/local/lib/python3.10/dist-packages (from torch_geometric) (1.2.2)\n",
            "Requirement already satisfied: jinja2 in /usr/local/lib/python3.10/dist-packages (from torch_geometric) (3.1.2)\n",
            "Requirement already satisfied: requests in /usr/local/lib/python3.10/dist-packages (from torch_geometric) (2.27.1)\n",
            "Requirement already satisfied: MarkupSafe>=2.0 in /usr/local/lib/python3.10/dist-packages (from jinja2->torch_geometric) (2.1.2)\n",
            "Requirement already satisfied: charset-normalizer~=2.0.0 in /usr/local/lib/python3.10/dist-packages (from requests->torch_geometric) (2.0.12)\n",
            "Requirement already satisfied: idna<4,>=2.5 in /usr/local/lib/python3.10/dist-packages (from requests->torch_geometric) (3.4)\n",
            "Requirement already satisfied: urllib3<1.27,>=1.21.1 in /usr/local/lib/python3.10/dist-packages (from requests->torch_geometric) (1.26.15)\n",
            "Requirement already satisfied: certifi>=2017.4.17 in /usr/local/lib/python3.10/dist-packages (from requests->torch_geometric) (2022.12.7)\n",
            "Requirement already satisfied: joblib>=1.1.1 in /usr/local/lib/python3.10/dist-packages (from scikit-learn->torch_geometric) (1.2.0)\n",
            "Requirement already satisfied: threadpoolctl>=2.0.0 in /usr/local/lib/python3.10/dist-packages (from scikit-learn->torch_geometric) (3.1.0)\n",
            "Building wheels for collected packages: torch_geometric\n",
            "  Building wheel for torch_geometric (pyproject.toml) ... \u001b[?25l\u001b[?25hdone\n",
            "  Created wheel for torch_geometric: filename=torch_geometric-2.3.1-py3-none-any.whl size=910476 sha256=8b6871a98d7f2bae1e907cd3a2150ca962f8cf8cd4030bb78c9ae5270265b9f8\n",
            "  Stored in directory: /root/.cache/pip/wheels/ac/dc/30/e2874821ff308ee67dcd7a66dbde912411e19e35a1addda028\n",
            "Successfully built torch_geometric\n",
            "Installing collected packages: torch_geometric\n",
            "Successfully installed torch_geometric-2.3.1\n"
          ]
        }
      ]
    },
    {
      "cell_type": "code",
      "execution_count": 59,
      "metadata": {
        "id": "hcPwyscU05rB"
      },
      "outputs": [],
      "source": [
        "import torch\n",
        "import networkx as nx\n",
        "from sklearn.preprocessing import StandardScaler\n",
        "import numpy as np\n",
        "from torch.nn import Module,ReLU,Dropout,Softmax,NLLLoss\n",
        "from torch.optim import Adam"
      ]
    },
    {
      "cell_type": "code",
      "source": [
        "GraphDataset = nx.karate_club_graph()\n",
        "scale = StandardScaler()\n"
      ],
      "metadata": {
        "id": "Ki8qN4QE1RCU"
      },
      "execution_count": 3,
      "outputs": []
    },
    {
      "cell_type": "code",
      "source": [
        "[GraphDataset.nodes[x]['club'] for x in GraphDataset.nodes]"
      ],
      "metadata": {
        "colab": {
          "base_uri": "https://localhost:8080/"
        },
        "id": "yTUpbGQlFFm1",
        "outputId": "9bf2de88-a4e0-4b07-89d4-bd1864e72936"
      },
      "execution_count": 4,
      "outputs": [
        {
          "output_type": "execute_result",
          "data": {
            "text/plain": [
              "['Mr. Hi',\n",
              " 'Mr. Hi',\n",
              " 'Mr. Hi',\n",
              " 'Mr. Hi',\n",
              " 'Mr. Hi',\n",
              " 'Mr. Hi',\n",
              " 'Mr. Hi',\n",
              " 'Mr. Hi',\n",
              " 'Mr. Hi',\n",
              " 'Officer',\n",
              " 'Mr. Hi',\n",
              " 'Mr. Hi',\n",
              " 'Mr. Hi',\n",
              " 'Mr. Hi',\n",
              " 'Officer',\n",
              " 'Officer',\n",
              " 'Mr. Hi',\n",
              " 'Mr. Hi',\n",
              " 'Officer',\n",
              " 'Mr. Hi',\n",
              " 'Officer',\n",
              " 'Mr. Hi',\n",
              " 'Officer',\n",
              " 'Officer',\n",
              " 'Officer',\n",
              " 'Officer',\n",
              " 'Officer',\n",
              " 'Officer',\n",
              " 'Officer',\n",
              " 'Officer',\n",
              " 'Officer',\n",
              " 'Officer',\n",
              " 'Officer',\n",
              " 'Officer']"
            ]
          },
          "metadata": {},
          "execution_count": 4
        }
      ]
    },
    {
      "cell_type": "code",
      "source": [
        "# Mr. Hi => False\n",
        "# officer => True\n",
        "labels = np.asarray([GraphDataset.nodes[x]['club']!='Mr. Hi' for x in GraphDataset.nodes]).astype(np.int64)"
      ],
      "metadata": {
        "id": "nx3EzOvTD3uT"
      },
      "execution_count": 5,
      "outputs": []
    },
    {
      "cell_type": "code",
      "source": [
        "def CreateAdjacencyList(GraphDataset):\n",
        "\n",
        "  AdjacencyList = nx.to_scipy_sparse_matrix(GraphDataset).tocoo() #(rowindex,colindex,connectionIsTrueFealse)\n",
        "  Row = torch.tensor(AdjacencyList.row) # Adjacency list row values (first)\n",
        "  Col = torch.tensor(AdjacencyList.col) # Adjacency list col values (second)\n",
        "\n",
        "  Graph = torch.stack([Row,Col],0)\n",
        "  return Graph\n"
      ],
      "metadata": {
        "id": "LzgCWij6EA8q"
      },
      "execution_count": 47,
      "outputs": []
    },
    {
      "cell_type": "code",
      "source": [
        "CreateAdjacencyList(GraphDataset).shape"
      ],
      "metadata": {
        "colab": {
          "base_uri": "https://localhost:8080/"
        },
        "id": "VfDsdud_OjIf",
        "outputId": "f1587714-0332-4773-cf7c-ac3ae195a79a"
      },
      "execution_count": 12,
      "outputs": [
        {
          "output_type": "stream",
          "name": "stdout",
          "text": [
            "tensor([[ 0,  0,  0,  0,  0,  0,  0,  0,  0,  0,  0,  0,  0,  0,  0,  0,  1,  1,\n",
            "          1,  1,  1,  1,  1,  1,  1,  2,  2,  2,  2,  2,  2,  2,  2,  2,  2,  3,\n",
            "          3,  3,  3,  3,  3,  4,  4,  4,  5,  5,  5,  5,  6,  6,  6,  6,  7,  7,\n",
            "          7,  7,  8,  8,  8,  8,  8,  9,  9, 10, 10, 10, 11, 12, 12, 13, 13, 13,\n",
            "         13, 13, 14, 14, 15, 15, 16, 16, 17, 17, 18, 18, 19, 19, 19, 20, 20, 21,\n",
            "         21, 22, 22, 23, 23, 23, 23, 23, 24, 24, 24, 25, 25, 25, 26, 26, 27, 27,\n",
            "         27, 27, 28, 28, 28, 29, 29, 29, 29, 30, 30, 30, 30, 31, 31, 31, 31, 31,\n",
            "         31, 32, 32, 32, 32, 32, 32, 32, 32, 32, 32, 32, 32, 33, 33, 33, 33, 33,\n",
            "         33, 33, 33, 33, 33, 33, 33, 33, 33, 33, 33, 33],\n",
            "        [ 1,  2,  3,  4,  5,  6,  7,  8, 10, 11, 12, 13, 17, 19, 21, 31,  0,  2,\n",
            "          3,  7, 13, 17, 19, 21, 30,  0,  1,  3,  7,  8,  9, 13, 27, 28, 32,  0,\n",
            "          1,  2,  7, 12, 13,  0,  6, 10,  0,  6, 10, 16,  0,  4,  5, 16,  0,  1,\n",
            "          2,  3,  0,  2, 30, 32, 33,  2, 33,  0,  4,  5,  0,  0,  3,  0,  1,  2,\n",
            "          3, 33, 32, 33, 32, 33,  5,  6,  0,  1, 32, 33,  0,  1, 33, 32, 33,  0,\n",
            "          1, 32, 33, 25, 27, 29, 32, 33, 25, 27, 31, 23, 24, 31, 29, 33,  2, 23,\n",
            "         24, 33,  2, 31, 33, 23, 26, 32, 33,  1,  8, 32, 33,  0, 24, 25, 28, 32,\n",
            "         33,  2,  8, 14, 15, 18, 20, 22, 23, 29, 30, 31, 33,  8,  9, 13, 14, 15,\n",
            "         18, 19, 20, 22, 23, 26, 27, 28, 29, 30, 31, 32]], dtype=torch.int32)\n"
          ]
        },
        {
          "output_type": "execute_result",
          "data": {
            "text/plain": [
              "torch.Size([2, 156])"
            ]
          },
          "metadata": {},
          "execution_count": 12
        }
      ]
    },
    {
      "cell_type": "code",
      "source": [
        "# embeddings : Initially degree of node is taken and normalized\n",
        "# Initial features of nodes are taken as embeddings\n",
        "embeddings = np.array([deg for node,deg in GraphDataset.degree()])\n",
        "embeddings = scale.fit_transform(embeddings.reshape(-1,1))\n",
        "print(embeddings)"
      ],
      "metadata": {
        "id": "eZInKbSLFh_-",
        "colab": {
          "base_uri": "https://localhost:8080/"
        },
        "outputId": "1f2b89a3-e1a8-4749-ccd3-5f734a4a3058"
      },
      "execution_count": 9,
      "outputs": [
        {
          "output_type": "stream",
          "name": "stdout",
          "text": [
            "[[ 2.98709092]\n",
            " [ 1.15480319]\n",
            " [ 1.41655858]\n",
            " [ 0.36953702]\n",
            " [-0.41572915]\n",
            " [-0.15397376]\n",
            " [-0.15397376]\n",
            " [-0.15397376]\n",
            " [ 0.10778163]\n",
            " [-0.67748454]\n",
            " [-0.41572915]\n",
            " [-0.93923993]\n",
            " [-0.67748454]\n",
            " [ 0.10778163]\n",
            " [-0.67748454]\n",
            " [-0.67748454]\n",
            " [-0.67748454]\n",
            " [-0.67748454]\n",
            " [-0.67748454]\n",
            " [-0.41572915]\n",
            " [-0.67748454]\n",
            " [-0.67748454]\n",
            " [-0.67748454]\n",
            " [ 0.10778163]\n",
            " [-0.41572915]\n",
            " [-0.41572915]\n",
            " [-0.67748454]\n",
            " [-0.15397376]\n",
            " [-0.41572915]\n",
            " [-0.15397376]\n",
            " [-0.15397376]\n",
            " [ 0.36953702]\n",
            " [ 1.94006936]\n",
            " [ 3.24884631]]\n"
          ]
        }
      ]
    },
    {
      "cell_type": "code",
      "source": [
        "class DatasetLoader():\n",
        "  def __init__(self,GraphDataset):\n",
        "\n",
        "\n",
        "    self.Dataset = GraphDataset\n",
        "    self.X = torch.tensor(embeddings,dtype=torch.float32) # Input features\n",
        "    self.y = torch.tensor(labels,dtype=torch.long) # Outputs\n",
        "    self.Graph = CreateAdjacencyList(GraphDataset) # Text and image have fixed graph structure , since GNN doesn't have specific structure structure is explicitly mentioned\n",
        "    # In what structure the nodes has to interact (to refine features) is explicitly mentioned\n",
        "    # Stuctured algorithms work based on the index of the input features\n",
        "    # since not structured seperate structure has to be given so the algorithm work based on the given graph structure\n",
        "  def __call__(self):\n",
        "    return {'input':self.X,'label':self.y,'Graph':self.Graph}"
      ],
      "metadata": {
        "id": "qHh2Hu_eJMG7"
      },
      "execution_count": 48,
      "outputs": []
    },
    {
      "cell_type": "code",
      "source": [
        "from torch_geometric.nn import GCNConv"
      ],
      "metadata": {
        "id": "lLje_d7ZRO__"
      },
      "execution_count": 49,
      "outputs": []
    },
    {
      "cell_type": "code",
      "source": [
        "class GraphNeuralNetwork(Module):\n",
        "\n",
        "  def __init__(self):\n",
        "    super().__init__()\n",
        "\n",
        "    self.Model = torch.nn.ModuleList()\n",
        "\n",
        "    self.Model.append(GCNConv(1,16)) # embedding as one dimension (Normaised degree)\n",
        "    self.Model.append(ReLU())\n",
        "    self.Model.append(Dropout())\n",
        "\n",
        "    self.Model.append(GCNConv(16,16))\n",
        "    self.Model.append(ReLU())\n",
        "    self.Model.append(Dropout())\n",
        "\n",
        "    self.Model.append(GCNConv(16,2)) # 2 classes\n",
        "\n",
        "    self.Model.append(Softmax(dim=-1))\n",
        "\n",
        "  def forward(self,X,Graph):\n",
        "\n",
        "    y = X\n",
        "\n",
        "    for layer in self.Model:\n",
        "\n",
        "      if(isinstance(layer,GCNConv)):\n",
        "        y = layer(y,edge_index = Graph)\n",
        "      else:\n",
        "        y = layer(y)\n",
        "\n",
        "    return y\n",
        "\n",
        "\n",
        "\n",
        "\n",
        "\n"
      ],
      "metadata": {
        "id": "tG_Cbzo6Q98u"
      },
      "execution_count": 50,
      "outputs": []
    },
    {
      "cell_type": "code",
      "source": [
        "device = torch.device('cpu')\n",
        "data =  DatasetLoader(GraphDataset)()\n",
        "model = GraphNeuralNetwork()\n",
        "model = model.to(device) \n",
        "for k in data.keys():\n",
        "  data[k] = data[k].to(device)\n",
        "LossFn = NLLLoss()\n",
        "optimizer = Adam(model.parameters(),lr =  1e-1)\n",
        "\n",
        "\n",
        "# TRAIN\n",
        "EPOCHS = 250\n",
        "\n",
        "for epc in range(EPOCHS):\n",
        "  \n",
        "\n",
        "  optimizer.zero_grad()\n",
        "  pred = model(data['input'],data['Graph'])\n",
        "  loss = LossFn(pred,data['label'])\n",
        "  loss.backward()\n",
        "  optimizer.step()\n",
        "  print(epc,loss.item())\n"
      ],
      "metadata": {
        "colab": {
          "base_uri": "https://localhost:8080/"
        },
        "id": "qu4B1msKTlDp",
        "outputId": "07967c6d-e42a-4e11-dfa7-4b39592ffa4b"
      },
      "execution_count": 65,
      "outputs": [
        {
          "output_type": "stream",
          "name": "stdout",
          "text": [
            "0 -0.49849414825439453\n",
            "1 -0.48815441131591797\n",
            "2 -0.506911039352417\n",
            "3 -0.509260356426239\n",
            "4 -0.48928287625312805\n",
            "5 -0.4866698086261749\n",
            "6 -0.5197473168373108\n",
            "7 -0.537302553653717\n",
            "8 -0.5005596280097961\n",
            "9 -0.5084007382392883\n",
            "10 -0.5425479412078857\n",
            "11 -0.5348790884017944\n",
            "12 -0.47218576073646545\n",
            "13 -0.5013256669044495\n",
            "14 -0.46591490507125854\n",
            "15 -0.4819313585758209\n",
            "16 -0.4678363800048828\n",
            "17 -0.4494376480579376\n",
            "18 -0.5330414175987244\n",
            "19 -0.5285269618034363\n",
            "20 -0.49834373593330383\n",
            "21 -0.5068018436431885\n",
            "22 -0.5214053988456726\n",
            "23 -0.55475914478302\n",
            "24 -0.5043678283691406\n",
            "25 -0.5039044618606567\n",
            "26 -0.42177286744117737\n",
            "27 -0.545946478843689\n",
            "28 -0.5539340972900391\n",
            "29 -0.548954963684082\n",
            "30 -0.47418761253356934\n",
            "31 -0.49740588665008545\n",
            "32 -0.4500592052936554\n",
            "33 -0.4762331545352936\n",
            "34 -0.603999137878418\n",
            "35 -0.5352843403816223\n",
            "36 -0.5424091219902039\n",
            "37 -0.47363635897636414\n",
            "38 -0.46092355251312256\n",
            "39 -0.555195689201355\n",
            "40 -0.564350962638855\n",
            "41 -0.5313154458999634\n",
            "42 -0.41724273562431335\n",
            "43 -0.5417977571487427\n",
            "44 -0.5524505376815796\n",
            "45 -0.5191331505775452\n",
            "46 -0.5871449112892151\n",
            "47 -0.5180791616439819\n",
            "48 -0.4385218024253845\n",
            "49 -0.48688533902168274\n",
            "50 -0.5450279712677002\n",
            "51 -0.6188257932662964\n",
            "52 -0.549122154712677\n",
            "53 -0.5559656023979187\n",
            "54 -0.46064138412475586\n",
            "55 -0.6856972575187683\n",
            "56 -0.5046855211257935\n",
            "57 -0.4298064112663269\n",
            "58 -0.6478775143623352\n",
            "59 -0.566011905670166\n",
            "60 -0.4761619567871094\n",
            "61 -0.5405772924423218\n",
            "62 -0.5338698625564575\n",
            "63 -0.47777295112609863\n",
            "64 -0.6328741908073425\n",
            "65 -0.5499686598777771\n",
            "66 -0.5044131875038147\n",
            "67 -0.7759661078453064\n",
            "68 -0.5833340287208557\n",
            "69 -0.6296024322509766\n",
            "70 -0.6097713112831116\n",
            "71 -0.4772767424583435\n",
            "72 -0.5045270323753357\n",
            "73 -0.4999220371246338\n",
            "74 -0.5318847298622131\n",
            "75 -0.5420092940330505\n",
            "76 -0.529856264591217\n",
            "77 -0.4805222749710083\n",
            "78 -0.5287806391716003\n",
            "79 -0.5243698954582214\n",
            "80 -0.4822673797607422\n",
            "81 -0.46352213621139526\n",
            "82 -0.4626198410987854\n",
            "83 -0.5842466950416565\n",
            "84 -0.45844829082489014\n",
            "85 -0.6530022621154785\n",
            "86 -0.4778235852718353\n",
            "87 -0.5417407751083374\n",
            "88 -0.5727930665016174\n",
            "89 -0.5067934989929199\n",
            "90 -0.506975531578064\n",
            "91 -0.6203384399414062\n",
            "92 -0.522395670413971\n",
            "93 -0.6486770510673523\n",
            "94 -0.5648282170295715\n",
            "95 -0.506626307964325\n",
            "96 -0.6940478682518005\n",
            "97 -0.48897483944892883\n",
            "98 -0.4326557219028473\n",
            "99 -0.5802231431007385\n",
            "100 -0.6368476748466492\n",
            "101 -0.6770071387290955\n",
            "102 -0.5877824425697327\n",
            "103 -0.5897499918937683\n",
            "104 -0.6058850884437561\n",
            "105 -0.4434610605239868\n",
            "106 -0.509460985660553\n",
            "107 -0.5478655099868774\n",
            "108 -0.5235260725021362\n",
            "109 -0.5842108726501465\n",
            "110 -0.6632559299468994\n",
            "111 -0.4045115113258362\n",
            "112 -0.48505401611328125\n",
            "113 -0.6019862294197083\n",
            "114 -0.4195815324783325\n",
            "115 -0.5484157204627991\n",
            "116 -0.46483471989631653\n",
            "117 -0.5924443006515503\n",
            "118 -0.6006267666816711\n",
            "119 -0.4700152575969696\n",
            "120 -0.4999013841152191\n",
            "121 -0.5379101037979126\n",
            "122 -0.482991486787796\n",
            "123 -0.4760751724243164\n",
            "124 -0.5119823813438416\n",
            "125 -0.24023930728435516\n",
            "126 -0.4609058201313019\n",
            "127 -0.5523226261138916\n",
            "128 -0.6104294657707214\n",
            "129 -0.7864362001419067\n",
            "130 -0.520817220211029\n",
            "131 -0.7922530174255371\n",
            "132 -0.5345926284790039\n",
            "133 -0.47274455428123474\n",
            "134 -0.6091083288192749\n",
            "135 -0.44574669003486633\n",
            "136 -0.23376847803592682\n",
            "137 -0.529741108417511\n",
            "138 -0.7366379499435425\n",
            "139 -0.5347199440002441\n",
            "140 -0.5871498584747314\n",
            "141 -0.6320870518684387\n",
            "142 -0.4950770139694214\n",
            "143 -0.42892611026763916\n",
            "144 -0.29274871945381165\n",
            "145 -0.5050265192985535\n",
            "146 -0.34864264726638794\n",
            "147 -0.47772765159606934\n",
            "148 -0.5205300450325012\n",
            "149 -0.599737286567688\n",
            "150 -0.541904628276825\n",
            "151 -0.5829501748085022\n",
            "152 -0.5968688726425171\n",
            "153 -0.44617921113967896\n",
            "154 -0.8926486968994141\n",
            "155 -0.9344350099563599\n",
            "156 -0.5098627209663391\n",
            "157 -0.3746442496776581\n",
            "158 -0.6593325734138489\n",
            "159 -0.7443782687187195\n",
            "160 -0.3754902184009552\n",
            "161 -0.9035001397132874\n",
            "162 -0.8401579260826111\n",
            "163 -0.5436991453170776\n",
            "164 -0.36416199803352356\n",
            "165 -0.5095759630203247\n",
            "166 -0.49546095728874207\n",
            "167 -0.6808140277862549\n",
            "168 -0.5044807195663452\n",
            "169 -0.49804115295410156\n",
            "170 -0.5565969347953796\n",
            "171 -0.9803099632263184\n",
            "172 -0.4364953339099884\n",
            "173 -0.5063169002532959\n",
            "174 -0.5002642273902893\n",
            "175 -0.5470531582832336\n",
            "176 -0.6213772296905518\n",
            "177 -0.4968961775302887\n",
            "178 -0.5627843737602234\n",
            "179 -0.5960547924041748\n",
            "180 -0.5826582908630371\n",
            "181 -0.7731506824493408\n",
            "182 -0.6586956977844238\n",
            "183 -0.9014075994491577\n",
            "184 -0.43147751688957214\n",
            "185 -0.7667604088783264\n",
            "186 -0.7374802231788635\n",
            "187 -0.1780765950679779\n",
            "188 -0.586982786655426\n",
            "189 -0.6718974113464355\n",
            "190 -0.5718041062355042\n",
            "191 -0.9335380792617798\n",
            "192 -0.7848437428474426\n",
            "193 -0.5298342108726501\n",
            "194 -0.7650793194770813\n",
            "195 -0.7820168733596802\n",
            "196 -0.44505229592323303\n",
            "197 -0.7193766236305237\n",
            "198 -0.7870891690254211\n",
            "199 -0.5051440000534058\n",
            "200 -0.5235028266906738\n",
            "201 -0.5416975617408752\n",
            "202 -0.5055184364318848\n",
            "203 -0.4149863123893738\n",
            "204 -0.4717898666858673\n",
            "205 -0.44683679938316345\n",
            "206 -0.367002010345459\n",
            "207 -0.4998197555541992\n",
            "208 -0.4716671109199524\n",
            "209 -0.4990122616291046\n",
            "210 -0.4531593322753906\n",
            "211 -0.5622252225875854\n",
            "212 -0.5847561955451965\n",
            "213 -0.515112578868866\n",
            "214 -0.6320702433586121\n",
            "215 -0.47060883045196533\n",
            "216 -0.5509063005447388\n",
            "217 -0.6597461700439453\n",
            "218 -0.8959913849830627\n",
            "219 -0.6358024477958679\n",
            "220 -0.7325301170349121\n",
            "221 -0.8730316758155823\n",
            "222 -0.45391908288002014\n",
            "223 -0.42265281081199646\n",
            "224 -0.7011985182762146\n",
            "225 -0.5624773502349854\n",
            "226 -0.6991946697235107\n",
            "227 -0.9533554315567017\n",
            "228 -0.8541090488433838\n",
            "229 -0.760158360004425\n",
            "230 -0.5966128706932068\n",
            "231 -0.9192301630973816\n",
            "232 -0.7103230357170105\n",
            "233 -0.4200049042701721\n",
            "234 -0.6971465349197388\n",
            "235 -0.9013873338699341\n",
            "236 -0.9181599617004395\n",
            "237 -0.859075665473938\n",
            "238 -0.6440871357917786\n",
            "239 -0.3093278110027313\n",
            "240 -0.7937451004981995\n",
            "241 -0.5594640970230103\n",
            "242 -0.7845349311828613\n",
            "243 -0.5033490657806396\n",
            "244 -0.2142045795917511\n",
            "245 -0.6076776385307312\n",
            "246 -0.45738688111305237\n",
            "247 -0.7975354194641113\n",
            "248 -0.6640088558197021\n",
            "249 -0.8212864995002747\n"
          ]
        }
      ]
    },
    {
      "cell_type": "code",
      "source": [
        "print(torch.argmax(pred,-1),data['label'])"
      ],
      "metadata": {
        "colab": {
          "base_uri": "https://localhost:8080/"
        },
        "id": "DYVYmn-rYRah",
        "outputId": "ddbcdc44-efbb-4968-aec4-0b30f585af6a"
      },
      "execution_count": 68,
      "outputs": [
        {
          "output_type": "stream",
          "name": "stdout",
          "text": [
            "tensor([0, 0, 0, 0, 0, 0, 0, 0, 0, 1, 0, 0, 0, 0, 1, 1, 0, 0, 1, 0, 1, 0, 1, 0,\n",
            "        0, 0, 1, 1, 1, 1, 1, 0, 1, 1]) tensor([0, 0, 0, 0, 0, 0, 0, 0, 0, 1, 0, 0, 0, 0, 1, 1, 0, 0, 1, 0, 1, 0, 1, 1,\n",
            "        1, 1, 1, 1, 1, 1, 1, 1, 1, 1])\n"
          ]
        }
      ]
    }
  ]
}