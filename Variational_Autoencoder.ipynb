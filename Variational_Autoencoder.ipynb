{
  "nbformat": 4,
  "nbformat_minor": 0,
  "metadata": {
    "colab": {
      "provenance": [],
      "gpuType": "T4"
    },
    "kernelspec": {
      "name": "python3",
      "display_name": "Python 3"
    },
    "language_info": {
      "name": "python"
    },
    "accelerator": "GPU"
  },
  "cells": [
    {
      "cell_type": "code",
      "execution_count": null,
      "metadata": {
        "id": "gcwaaU0iBmnD"
      },
      "outputs": [],
      "source": [
        "import keras\n",
        "from keras.layers import Conv2D,Input,Flatten,Layer,Dense,Reshape,Conv2DTranspose,Lambda\n",
        "from keras.backend import random_normal,exp\n",
        "import keras.backend as K\n",
        "import numpy as np\n",
        "import tensorflow as tf"
      ]
    },
    {
      "cell_type": "code",
      "source": [
        "class Sample(Layer):\n",
        "  # Reparameterization trick with epsilon instead of sampling from the prev layer output which blocks gradients to backpropagate\n",
        "  def call(self,z_mean,z_var):\n",
        "\n",
        "    global Dimension\n",
        "\n",
        "    # epsilon : additional parameter which gives randomness to the latent variable while keeping the mean and variance in the computation graph\n",
        "    batch_size =  tf.shape(z_mean)[0]\n",
        "    epsilon = random_normal(shape=(batch_size,Dimension))\n",
        "\n",
        "    return z_mean +  exp(0.5 * z_var) * epsilon\n"
      ],
      "metadata": {
        "id": "1cEw8Tdw_-oG"
      },
      "execution_count": null,
      "outputs": []
    },
    {
      "cell_type": "code",
      "source": [
        "class NamingLayer(Layer): # for loss function\n",
        "   def call(self,X):  return X\n",
        "\n",
        "def iden(_,X):  return X"
      ],
      "metadata": {
        "id": "ogs7_s0sz2-m"
      },
      "execution_count": null,
      "outputs": []
    },
    {
      "cell_type": "code",
      "source": [
        "class VAE_Loss(Layer):\n",
        "  def call(self,Y_true, Y_pred,Z_mean,Z_var):\n",
        "\n",
        "    #recon_loss = tf.reduce_mean(K.sum(keras.losses.binary_crossentropy(Y_true, Y_pred), axis=(1, 2) ))\n",
        "    recon_loss = tf.reduce_mean(K.sum(K.abs(Y_pred-Y_true),axis=(1,2)))\n",
        "    KL_div =  -0.5 * (1 + Z_var - K.square(Z_mean) - K.exp(Z_var))\n",
        "    KL_div = K.mean(K.sum(KL_div, axis=1))\n",
        "    return recon_loss , KL_div\n"
      ],
      "metadata": {
        "id": "Nu518JGWNQ1O"
      },
      "execution_count": null,
      "outputs": []
    },
    {
      "cell_type": "code",
      "source": [
        "(x_train, _), (x_test, _) = tf.keras.datasets.mnist.load_data()\n",
        "mnist_digits = np.concatenate([x_train, x_test], axis=0)\n",
        "mnist_digits = np.expand_dims(mnist_digits, -1).astype(\"float32\") / 255\n",
        "print(mnist_digits.shape)"
      ],
      "metadata": {
        "colab": {
          "base_uri": "https://localhost:8080/"
        },
        "id": "T3NYG6AKOsTh",
        "outputId": "52eccc33-db3d-4253-ea55-157363aed575"
      },
      "execution_count": null,
      "outputs": [
        {
          "output_type": "stream",
          "name": "stdout",
          "text": [
            "(70000, 28, 28, 1)\n"
          ]
        }
      ]
    },
    {
      "cell_type": "code",
      "source": [
        "Dimension = 4\n",
        "batch_size = 128\n",
        "inputs = Input(shape = (mnist_digits.shape[1:]))\n",
        "\n",
        "\n",
        "\n",
        "\n",
        "# Encoder : Proxy Q(Z|X) to approximate true posterior : core idea of Variational inference\n",
        "\n",
        "x = Conv2D(32, 3, activation=\"relu\", strides=2, padding=\"same\")(inputs)\n",
        "x = Conv2D(64, 3, activation=\"relu\", strides=2, padding=\"same\")(x)\n",
        "x = Flatten()(x)\n",
        "x = Dense(16, activation=\"relu\")(x)\n",
        "\n",
        "Z_mean = Dense(Dimension,name=\"mean_distribution\")(x)\n",
        "Z_var  = Dense(Dimension,name=\"var_distribution\")(x)\n",
        "\n",
        "\n",
        "# Sampling Z from predicted distribution\n",
        "Latent = Sample(name=\"latent_variable\")(Z_mean, Z_var)\n",
        "\n",
        "\n",
        "\n",
        "# Decoder : P(X|z) : the Model which gives X input z\n",
        "x = Dense(16,name = \"latent_input\")(Latent)\n",
        "x = Dense(7*7*16)(x)\n",
        "x = Reshape((7,7,16))(x)\n",
        "x = Conv2DTranspose(64, 3, activation=\"relu\", strides=2, padding=\"same\")(x)\n",
        "x = Conv2DTranspose(32, 3, activation=\"relu\", strides=2, padding=\"same\")(x)\n",
        "y_pred = Conv2DTranspose(1, 3, activation=\"sigmoid\", padding=\"same\",name=\"Output\")(x)\n",
        "\n",
        "\n",
        "recon_loss , KL_div = VAE_Loss(name=\"vae_loss\")(inputs, y_pred,Z_mean,Z_var)\n",
        "\n",
        "recon_loss = NamingLayer(name = \"recon\")(recon_loss)\n",
        "KL_div = NamingLayer(name = \"KL_div\")(KL_div)\n",
        "\n",
        "VAE = keras.Model(inputs=inputs, outputs=[recon_loss , KL_div], name=\"VAE\")\n",
        "VAE.summary()\n"
      ],
      "metadata": {
        "colab": {
          "base_uri": "https://localhost:8080/"
        },
        "id": "PRY4jydROiA8",
        "outputId": "42e48b3e-f888-42fe-db99-f5fd3392805b"
      },
      "execution_count": null,
      "outputs": [
        {
          "output_type": "stream",
          "name": "stdout",
          "text": [
            "Model: \"VAE\"\n",
            "__________________________________________________________________________________________________\n",
            " Layer (type)                Output Shape                 Param #   Connected to                  \n",
            "==================================================================================================\n",
            " input_3 (InputLayer)        [(None, 28, 28, 1)]          0         []                            \n",
            "                                                                                                  \n",
            " conv2d_2 (Conv2D)           (None, 14, 14, 32)           320       ['input_3[0][0]']             \n",
            "                                                                                                  \n",
            " conv2d_3 (Conv2D)           (None, 7, 7, 64)             18496     ['conv2d_2[0][0]']            \n",
            "                                                                                                  \n",
            " flatten_1 (Flatten)         (None, 3136)                 0         ['conv2d_3[0][0]']            \n",
            "                                                                                                  \n",
            " dense_2 (Dense)             (None, 16)                   50192     ['flatten_1[0][0]']           \n",
            "                                                                                                  \n",
            " mean_distribution (Dense)   (None, 4)                    68        ['dense_2[0][0]']             \n",
            "                                                                                                  \n",
            " var_distribution (Dense)    (None, 4)                    68        ['dense_2[0][0]']             \n",
            "                                                                                                  \n",
            " latent_variable (Sample)    (None, 4)                    0         ['mean_distribution[0][0]',   \n",
            "                                                                     'var_distribution[0][0]']    \n",
            "                                                                                                  \n",
            " latent_input (Dense)        (None, 16)                   80        ['latent_variable[0][0]']     \n",
            "                                                                                                  \n",
            " dense_3 (Dense)             (None, 784)                  13328     ['latent_input[0][0]']        \n",
            "                                                                                                  \n",
            " reshape_1 (Reshape)         (None, 7, 7, 16)             0         ['dense_3[0][0]']             \n",
            "                                                                                                  \n",
            " conv2d_transpose_2 (Conv2D  (None, 14, 14, 64)           9280      ['reshape_1[0][0]']           \n",
            " Transpose)                                                                                       \n",
            "                                                                                                  \n",
            " conv2d_transpose_3 (Conv2D  (None, 28, 28, 32)           18464     ['conv2d_transpose_2[0][0]']  \n",
            " Transpose)                                                                                       \n",
            "                                                                                                  \n",
            " Output (Conv2DTranspose)    (None, 28, 28, 1)            289       ['conv2d_transpose_3[0][0]']  \n",
            "                                                                                                  \n",
            " vae_loss (VAE_Loss)         ((),                         0         ['input_3[0][0]',             \n",
            "                              ())                                    'Output[0][0]',              \n",
            "                                                                     'mean_distribution[0][0]',   \n",
            "                                                                     'var_distribution[0][0]']    \n",
            "                                                                                                  \n",
            " recon (NamingLayer)         ()                           0         ['vae_loss[0][0]']            \n",
            "                                                                                                  \n",
            " KL_div (NamingLayer)        ()                           0         ['vae_loss[0][1]']            \n",
            "                                                                                                  \n",
            "==================================================================================================\n",
            "Total params: 110585 (431.97 KB)\n",
            "Trainable params: 110585 (431.97 KB)\n",
            "Non-trainable params: 0 (0.00 Byte)\n",
            "__________________________________________________________________________________________________\n"
          ]
        }
      ]
    },
    {
      "cell_type": "code",
      "source": [
        "VAE.compile(keras.optimizers.Adam(), loss={'recon':iden , 'KL_div': iden})\n",
        "VAE.fit(mnist_digits, mnist_digits, batch_size=batch_size, epochs=50)"
      ],
      "metadata": {
        "colab": {
          "base_uri": "https://localhost:8080/"
        },
        "id": "x1gpwMVyPC2g",
        "outputId": "8784910f-df13-4f50-a3bb-69522f57fd4b"
      },
      "execution_count": null,
      "outputs": [
        {
          "output_type": "stream",
          "name": "stdout",
          "text": [
            "Epoch 1/50\n",
            "547/547 [==============================] - 8s 9ms/step - loss: 109.6200 - recon_loss: 108.3312 - KL_div_loss: 1.2889\n",
            "Epoch 2/50\n",
            "547/547 [==============================] - 5s 9ms/step - loss: 86.1427 - recon_loss: 82.6101 - KL_div_loss: 3.5326\n",
            "Epoch 3/50\n",
            "547/547 [==============================] - 5s 10ms/step - loss: 77.2995 - recon_loss: 71.4639 - KL_div_loss: 5.8357\n",
            "Epoch 4/50\n",
            "547/547 [==============================] - 5s 9ms/step - loss: 73.1983 - recon_loss: 66.6706 - KL_div_loss: 6.5278\n",
            "Epoch 5/50\n",
            "547/547 [==============================] - 5s 9ms/step - loss: 71.3372 - recon_loss: 64.6451 - KL_div_loss: 6.6920\n",
            "Epoch 6/50\n",
            "547/547 [==============================] - 5s 10ms/step - loss: 70.1501 - recon_loss: 63.3786 - KL_div_loss: 6.7716\n",
            "Epoch 7/50\n",
            "547/547 [==============================] - 5s 9ms/step - loss: 69.3486 - recon_loss: 62.5386 - KL_div_loss: 6.8100\n",
            "Epoch 8/50\n",
            "547/547 [==============================] - 5s 10ms/step - loss: 68.7331 - recon_loss: 61.9028 - KL_div_loss: 6.8302\n",
            "Epoch 9/50\n",
            "547/547 [==============================] - 5s 9ms/step - loss: 68.1767 - recon_loss: 61.3403 - KL_div_loss: 6.8364\n",
            "Epoch 10/50\n",
            "547/547 [==============================] - 5s 9ms/step - loss: 67.8484 - recon_loss: 60.9972 - KL_div_loss: 6.8511\n",
            "Epoch 11/50\n",
            "547/547 [==============================] - 5s 10ms/step - loss: 67.4630 - recon_loss: 60.5980 - KL_div_loss: 6.8651\n",
            "Epoch 12/50\n",
            "547/547 [==============================] - 5s 9ms/step - loss: 67.1685 - recon_loss: 60.3026 - KL_div_loss: 6.8660\n",
            "Epoch 13/50\n",
            "547/547 [==============================] - 5s 9ms/step - loss: 66.8500 - recon_loss: 59.9956 - KL_div_loss: 6.8544\n",
            "Epoch 14/50\n",
            "547/547 [==============================] - 5s 9ms/step - loss: 66.5436 - recon_loss: 59.6770 - KL_div_loss: 6.8666\n",
            "Epoch 15/50\n",
            "547/547 [==============================] - 5s 9ms/step - loss: 66.2784 - recon_loss: 59.4171 - KL_div_loss: 6.8614\n",
            "Epoch 16/50\n",
            "547/547 [==============================] - 5s 10ms/step - loss: 66.1105 - recon_loss: 59.2407 - KL_div_loss: 6.8697\n",
            "Epoch 17/50\n",
            "547/547 [==============================] - 5s 8ms/step - loss: 65.8418 - recon_loss: 58.9507 - KL_div_loss: 6.8911\n",
            "Epoch 18/50\n",
            "547/547 [==============================] - 5s 9ms/step - loss: 65.6869 - recon_loss: 58.7746 - KL_div_loss: 6.9122\n",
            "Epoch 19/50\n",
            "547/547 [==============================] - 5s 10ms/step - loss: 65.4772 - recon_loss: 58.5490 - KL_div_loss: 6.9281\n",
            "Epoch 20/50\n",
            "547/547 [==============================] - 5s 9ms/step - loss: 65.2803 - recon_loss: 58.3242 - KL_div_loss: 6.9560\n",
            "Epoch 21/50\n",
            "547/547 [==============================] - 6s 11ms/step - loss: 65.1680 - recon_loss: 58.1962 - KL_div_loss: 6.9719\n",
            "Epoch 22/50\n",
            "547/547 [==============================] - 5s 10ms/step - loss: 64.9514 - recon_loss: 57.9721 - KL_div_loss: 6.9794\n",
            "Epoch 23/50\n",
            "547/547 [==============================] - 5s 9ms/step - loss: 64.8009 - recon_loss: 57.8022 - KL_div_loss: 6.9988\n",
            "Epoch 24/50\n",
            "547/547 [==============================] - 5s 10ms/step - loss: 64.6389 - recon_loss: 57.6166 - KL_div_loss: 7.0223\n",
            "Epoch 25/50\n",
            "547/547 [==============================] - 5s 9ms/step - loss: 64.5866 - recon_loss: 57.5621 - KL_div_loss: 7.0245\n",
            "Epoch 26/50\n",
            "547/547 [==============================] - 5s 10ms/step - loss: 64.4087 - recon_loss: 57.3535 - KL_div_loss: 7.0552\n",
            "Epoch 27/50\n",
            "547/547 [==============================] - 5s 9ms/step - loss: 64.3382 - recon_loss: 57.2620 - KL_div_loss: 7.0761\n",
            "Epoch 28/50\n",
            "547/547 [==============================] - 5s 9ms/step - loss: 64.2903 - recon_loss: 57.2024 - KL_div_loss: 7.0880\n",
            "Epoch 29/50\n",
            "547/547 [==============================] - 5s 10ms/step - loss: 64.1366 - recon_loss: 57.0307 - KL_div_loss: 7.1059\n",
            "Epoch 30/50\n",
            "547/547 [==============================] - 5s 9ms/step - loss: 64.0558 - recon_loss: 56.9362 - KL_div_loss: 7.1196\n",
            "Epoch 31/50\n",
            "547/547 [==============================] - 6s 10ms/step - loss: 63.9879 - recon_loss: 56.8646 - KL_div_loss: 7.1233\n",
            "Epoch 32/50\n",
            "547/547 [==============================] - 5s 9ms/step - loss: 63.9357 - recon_loss: 56.7876 - KL_div_loss: 7.1482\n",
            "Epoch 33/50\n",
            "547/547 [==============================] - 5s 9ms/step - loss: 63.7713 - recon_loss: 56.6223 - KL_div_loss: 7.1490\n",
            "Epoch 34/50\n",
            "547/547 [==============================] - 8s 14ms/step - loss: 63.7469 - recon_loss: 56.5822 - KL_div_loss: 7.1648\n",
            "Epoch 35/50\n",
            "547/547 [==============================] - 5s 9ms/step - loss: 63.7022 - recon_loss: 56.5161 - KL_div_loss: 7.1862\n",
            "Epoch 36/50\n",
            "547/547 [==============================] - 6s 10ms/step - loss: 63.5967 - recon_loss: 56.4102 - KL_div_loss: 7.1865\n",
            "Epoch 37/50\n",
            "547/547 [==============================] - 7s 12ms/step - loss: 63.5156 - recon_loss: 56.3269 - KL_div_loss: 7.1887\n",
            "Epoch 38/50\n",
            "547/547 [==============================] - 6s 10ms/step - loss: 63.5120 - recon_loss: 56.3144 - KL_div_loss: 7.1976\n",
            "Epoch 39/50\n",
            "547/547 [==============================] - 5s 9ms/step - loss: 63.4773 - recon_loss: 56.2653 - KL_div_loss: 7.2120\n",
            "Epoch 40/50\n",
            "547/547 [==============================] - 5s 10ms/step - loss: 63.4258 - recon_loss: 56.1954 - KL_div_loss: 7.2304\n",
            "Epoch 41/50\n",
            "547/547 [==============================] - 5s 9ms/step - loss: 63.3701 - recon_loss: 56.1396 - KL_div_loss: 7.2304\n",
            "Epoch 42/50\n",
            "547/547 [==============================] - 5s 9ms/step - loss: 63.2902 - recon_loss: 56.0543 - KL_div_loss: 7.2359\n",
            "Epoch 43/50\n",
            "547/547 [==============================] - 5s 10ms/step - loss: 63.2620 - recon_loss: 56.0094 - KL_div_loss: 7.2527\n",
            "Epoch 44/50\n",
            "547/547 [==============================] - 5s 8ms/step - loss: 63.2379 - recon_loss: 55.9937 - KL_div_loss: 7.2443\n",
            "Epoch 45/50\n",
            "547/547 [==============================] - 5s 10ms/step - loss: 63.1957 - recon_loss: 55.9353 - KL_div_loss: 7.2603\n",
            "Epoch 46/50\n",
            "547/547 [==============================] - 5s 9ms/step - loss: 63.1790 - recon_loss: 55.9021 - KL_div_loss: 7.2769\n",
            "Epoch 47/50\n",
            "547/547 [==============================] - 5s 8ms/step - loss: 63.0812 - recon_loss: 55.8193 - KL_div_loss: 7.2619\n",
            "Epoch 48/50\n",
            "547/547 [==============================] - 5s 10ms/step - loss: 63.0861 - recon_loss: 55.8074 - KL_div_loss: 7.2787\n",
            "Epoch 49/50\n",
            "547/547 [==============================] - 5s 9ms/step - loss: 63.0766 - recon_loss: 55.7972 - KL_div_loss: 7.2794\n",
            "Epoch 50/50\n",
            "547/547 [==============================] - 5s 9ms/step - loss: 62.9910 - recon_loss: 55.6881 - KL_div_loss: 7.3029\n"
          ]
        },
        {
          "output_type": "execute_result",
          "data": {
            "text/plain": [
              "<keras.src.callbacks.History at 0x7a343ffcc1c0>"
            ]
          },
          "metadata": {},
          "execution_count": 16
        }
      ]
    },
    {
      "cell_type": "code",
      "source": [
        "# INFERENCE MODEL\n",
        "InferrenceModel = keras.Model(inputs=VAE.get_layer(\"latent_input\").input, outputs=VAE.get_layer(\"Output\").output, name=\"VAE\")\n",
        "proxy = keras.Model(inputs=VAE.input, outputs=[VAE.get_layer(\"mean_distribution\").output,VAE.get_layer(\"var_distribution\").output], name=\"proxy\")\n"
      ],
      "metadata": {
        "id": "BO5hmWJiRiEJ"
      },
      "execution_count": null,
      "outputs": []
    },
    {
      "cell_type": "code",
      "source": [
        "from google.colab.patches import cv2_imshow"
      ],
      "metadata": {
        "id": "KHTkk8kfR6wH"
      },
      "execution_count": null,
      "outputs": []
    },
    {
      "cell_type": "code",
      "source": [
        "len(x_test)"
      ],
      "metadata": {
        "colab": {
          "base_uri": "https://localhost:8080/"
        },
        "id": "v-9VCidqr_07",
        "outputId": "6545d104-f186-44ed-e800-295addec6d3c"
      },
      "execution_count": null,
      "outputs": [
        {
          "output_type": "execute_result",
          "data": {
            "text/plain": [
              "10000"
            ]
          },
          "metadata": {},
          "execution_count": 10
        }
      ]
    },
    {
      "cell_type": "code",
      "source": [
        "test = x_test[1000]\n",
        "cv2_imshow(test)\n",
        "test = np.expand_dims(test, -1).astype(\"float32\") / 255\n",
        "latent_distribution = proxy( np.expand_dims(test,0))\n",
        "print(latent_distribution)\n",
        "\n",
        "\n",
        "\n"
      ],
      "metadata": {
        "id": "2KyYwU79rXfA",
        "colab": {
          "base_uri": "https://localhost:8080/",
          "height": 82
        },
        "outputId": "bca9d8ae-020a-4d92-a8ac-c51ddbe23569"
      },
      "execution_count": null,
      "outputs": [
        {
          "output_type": "display_data",
          "data": {
            "text/plain": [
              "<PIL.Image.Image image mode=L size=28x28>"
            ],
            "image/png": "[encoded data removed]"
          },
          "metadata": {}
        },
        {
          "output_type": "stream",
          "name": "stdout",
          "text": [
            "[<tf.Tensor: shape=(1, 4), dtype=float32, numpy=array([[nan, nan, nan, nan]], dtype=float32)>, <tf.Tensor: shape=(1, 4), dtype=float32, numpy=array([[nan, nan, nan, nan]], dtype=float32)>]\n"
          ]
        }
      ]
    },
    {
      "cell_type": "code",
      "source": [
        "z_mean, z_var = latent_distribution\n",
        "\n",
        "\n",
        "for i in range(10):\n",
        "  latent =  z_mean +  exp(0.5 * z_var) *  random_normal(shape=(1,Dimension))\n",
        "  print(latent)\n",
        "\n",
        "\n",
        "  pred = InferrenceModel(latent).numpy()\n",
        "  pred = pred.reshape(28,28)\n",
        "  pred = (pred * 255).astype(\"int16\")\n",
        "  cv2_imshow(pred)"
      ],
      "metadata": {
        "colab": {
          "base_uri": "https://localhost:8080/",
          "height": 471
        },
        "id": "56_5CZ3buLkF",
        "outputId": "7857ee58-13a2-44a6-c61c-b4431e0c7050"
      },
      "execution_count": null,
      "outputs": [
        {
          "output_type": "stream",
          "name": "stdout",
          "text": [
            "tf.Tensor([[nan nan nan nan]], shape=(1, 4), dtype=float32)\n"
          ]
        },
        {
          "output_type": "display_data",
          "data": {
            "text/plain": [
              "<PIL.Image.Image image mode=L size=28x28>"
            ],
            "image/png": "[encoded data removed]"
          },
          "metadata": {}
        },
        {
          "output_type": "stream",
          "name": "stdout",
          "text": [
            "tf.Tensor([[nan nan nan nan]], shape=(1, 4), dtype=float32)\n"
          ]
        },
        {
          "output_type": "display_data",
          "data": {
            "text/plain": [
              "<PIL.Image.Image image mode=L size=28x28>"
            ],
            "image/png": "[encoded data removed]"
          },
          "metadata": {}
        },
        {
          "output_type": "stream",
          "name": "stdout",
          "text": [
            "tf.Tensor([[nan nan nan nan]], shape=(1, 4), dtype=float32)\n"
          ]
        },
        {
          "output_type": "display_data",
          "data": {
            "text/plain": [
              "<PIL.Image.Image image mode=L size=28x28>"
            ],
            "image/png": "[encoded data removed]"
          },
          "metadata": {}
        },
        {
          "output_type": "stream",
          "name": "stdout",
          "text": [
            "tf.Tensor([[nan nan nan nan]], shape=(1, 4), dtype=float32)\n"
          ]
        },
        {
          "output_type": "display_data",
          "data": {
            "text/plain": [
              "<PIL.Image.Image image mode=L size=28x28>"
            ],
            "image/png": "[encoded data removed]"
          },
          "metadata": {}
        },
        {
          "output_type": "stream",
          "name": "stdout",
          "text": [
            "tf.Tensor([[nan nan nan nan]], shape=(1, 4), dtype=float32)\n"
          ]
        },
        {
          "output_type": "display_data",
          "data": {
            "text/plain": [
              "<PIL.Image.Image image mode=L size=28x28>"
            ],
            "image/png": "[encoded data removed]"
          },
          "metadata": {}
        },
        {
          "output_type": "stream",
          "name": "stdout",
          "text": [
            "tf.Tensor([[nan nan nan nan]], shape=(1, 4), dtype=float32)\n"
          ]
        },
        {
          "output_type": "display_data",
          "data": {
            "text/plain": [
              "<PIL.Image.Image image mode=L size=28x28>"
            ],
            "image/png": "[encoded data removed]"
          },
          "metadata": {}
        },
        {
          "output_type": "stream",
          "name": "stdout",
          "text": [
            "tf.Tensor([[nan nan nan nan]], shape=(1, 4), dtype=float32)\n"
          ]
        },
        {
          "output_type": "display_data",
          "data": {
            "text/plain": [
              "<PIL.Image.Image image mode=L size=28x28>"
            ],
            "image/png": "[encoded data removed]"
          },
          "metadata": {}
        },
        {
          "output_type": "stream",
          "name": "stdout",
          "text": [
            "tf.Tensor([[nan nan nan nan]], shape=(1, 4), dtype=float32)\n"
          ]
        },
        {
          "output_type": "display_data",
          "data": {
            "text/plain": [
              "<PIL.Image.Image image mode=L size=28x28>"
            ],
            "image/png": "[encoded data removed]"
          },
          "metadata": {}
        },
        {
          "output_type": "stream",
          "name": "stdout",
          "text": [
            "tf.Tensor([[nan nan nan nan]], shape=(1, 4), dtype=float32)\n"
          ]
        },
        {
          "output_type": "display_data",
          "data": {
            "text/plain": [
              "<PIL.Image.Image image mode=L size=28x28>"
            ],
            "image/png": "[encoded data removed]"
          },
          "metadata": {}
        },
        {
          "output_type": "stream",
          "name": "stdout",
          "text": [
            "tf.Tensor([[nan nan nan nan]], shape=(1, 4), dtype=float32)\n"
          ]
        },
        {
          "output_type": "display_data",
          "data": {
            "text/plain": [
              "<PIL.Image.Image image mode=L size=28x28>"
            ],
            "image/png": "[encoded data removed]"
          },
          "metadata": {}
        }
      ]
    },
    {
      "cell_type": "code",
      "source": [],
      "metadata": {
        "id": "n-UVZiQEOvdO",
        "colab": {
          "base_uri": "https://localhost:8080/",
          "height": 45
        },
        "outputId": "401869b5-c79c-4874-d20f-6dc924786220"
      },
      "execution_count": null,
      "outputs": [
        {
          "output_type": "display_data",
          "data": {
            "text/plain": [
              "<PIL.Image.Image image mode=L size=28x28>"
            ],
            "image/png": "[encoded data removed]"
          },
          "metadata": {}
        }
      ]
    },
    {
      "cell_type": "code",
      "source": [],
      "metadata": {
        "id": "lXjLlzhguiRm"
      },
      "execution_count": null,
      "outputs": []
    }
  ]
}