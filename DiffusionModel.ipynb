{
  "nbformat": 4,
  "nbformat_minor": 0,
  "metadata": {
    "colab": {
      "provenance": []
    },
    "kernelspec": {
      "name": "python3",
      "display_name": "Python 3"
    },
    "language_info": {
      "name": "python"
    }
  },
  "cells": [
    {
      "cell_type": "code",
      "execution_count": null,
      "metadata": {
        "id": "_RfiQiBvplzI"
      },
      "outputs": [],
      "source": [
        "from torch.nn import Module,Sequential,Conv2d,GroupNorm,SiLU,Identity,Linear"
      ]
    },
    {
      "cell_type": "code",
      "source": [
        "def convBlock(in_dim,out_dim):\n",
        "  return Sequential([Conv2d(in_dim,out_dim,3,padding=1),GroupNorm(8,out_dim),SiLU()])\n",
        "def timeEmbeddingMLP(emb_dim,out_dim):\n",
        "  return Sequential([SiLU(),Linear])\n",
        "\n",
        "\n",
        "class ResnetLayer(Module):\n",
        "  def __init__(self, in_dim, out_dim):\n",
        "\n",
        "    self.block1 = convBlock(in_dim, out_dim)\n",
        "    self.block2 = convBlock(in_dim, out_dim)\n",
        "\n",
        "    self.resBlock = convBlock(out_dim)  if(in_dim!=out_dim) else Identity\n",
        "    self.timeEmbedding =\n",
        "  def forward(self):\n",
        "    pass\n"
      ],
      "metadata": {
        "id": "gWnWMlZQtdNW"
      },
      "execution_count": null,
      "outputs": []
    },
    {
      "cell_type": "code",
      "source": [
        "class UnetDownBlock(Module):\n",
        "  def __init__(self):\n",
        "    pass\n",
        "  def forward(self,x):\n",
        "    #"
      ],
      "metadata": {
        "id": "OLfeU4fkrvKo"
      },
      "execution_count": null,
      "outputs": []
    },
    {
      "cell_type": "code",
      "source": [
        "class UnetAttention(Module):\n",
        "  def __init__(self):\n",
        "    pass\n",
        "  def forward(self,x,timeStamp):\n",
        "    pass"
      ],
      "metadata": {
        "id": "lW6r9WBaqA9l"
      },
      "execution_count": null,
      "outputs": []
    }
  ]
}